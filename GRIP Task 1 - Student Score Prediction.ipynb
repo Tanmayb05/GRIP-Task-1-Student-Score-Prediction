{
 "cells": [
  {
   "cell_type": "markdown",
   "id": "1ded715a",
   "metadata": {
    "ExecuteTime": {
     "end_time": "2021-06-10T12:21:43.811697Z",
     "start_time": "2021-06-10T12:21:43.792026Z"
    }
   },
   "source": [
    "# The Sparks Foundation - Data Science & Business Analytics Internship"
   ]
  },
  {
   "cell_type": "markdown",
   "id": "04dc389f",
   "metadata": {},
   "source": [
    "## TASK 1 - Prediction using Supervised Machine Learning\n",
    "\n",
    "In this task it is required to predict the percentage of a student on the basis of number of hours studied using the Linear Regression supervised machine learning algorithm."
   ]
  },
  {
   "cell_type": "markdown",
   "id": "d555e84b",
   "metadata": {},
   "source": [
    "### Steps:\n",
    "\n",
    "- Step 1 - Importing the python libraries & dataset\n",
    "- Step 2 - Visualizing the dataset\n",
    "- Step 3 - Data preparation\n",
    "- Step 4 - Training the algorithm\n",
    "- Step 5 - Visualizing the model\n",
    "- Step 6 - Making predictions\n",
    "- Step 7 - Evaluating the model"
   ]
  },
  {
   "cell_type": "markdown",
   "id": "53853c8f",
   "metadata": {},
   "source": [
    "## STEP 1 - Importing the Libraries & Dataset\n",
    "\n",
    "In this step, we will import python libraries required to execute the project and the dataset through the given link."
   ]
  },
  {
   "cell_type": "markdown",
   "id": "a2d650ff",
   "metadata": {},
   "source": [
    "### Importing Libraries"
   ]
  },
  {
   "cell_type": "code",
   "execution_count": 80,
   "id": "cbecec99",
   "metadata": {
    "ExecuteTime": {
     "end_time": "2021-06-10T12:30:02.291335Z",
     "start_time": "2021-06-10T12:30:02.270752Z"
    }
   },
   "outputs": [],
   "source": [
    "# Importing All required libraries\n",
    "import numpy as np\n",
    "import pandas as pd\n",
    "import matplotlib.pyplot as plt\n",
    "import seaborn as sns\n",
    "%matplotlib inline\n",
    "\n",
    "# To ignore the warnings \n",
    "import warnings as wg\n",
    "wg.filterwarnings(\"ignore\")"
   ]
  },
  {
   "cell_type": "markdown",
   "id": "031c284d",
   "metadata": {},
   "source": [
    "### Importing Dataset"
   ]
  },
  {
   "cell_type": "code",
   "execution_count": 81,
   "id": "284f67ca",
   "metadata": {
    "ExecuteTime": {
     "end_time": "2021-06-10T12:30:03.579278Z",
     "start_time": "2021-06-10T12:30:02.692576Z"
    }
   },
   "outputs": [
    {
     "data": {
      "text/html": [
       "<div>\n",
       "<style scoped>\n",
       "    .dataframe tbody tr th:only-of-type {\n",
       "        vertical-align: middle;\n",
       "    }\n",
       "\n",
       "    .dataframe tbody tr th {\n",
       "        vertical-align: top;\n",
       "    }\n",
       "\n",
       "    .dataframe thead th {\n",
       "        text-align: right;\n",
       "    }\n",
       "</style>\n",
       "<table border=\"1\" class=\"dataframe\">\n",
       "  <thead>\n",
       "    <tr style=\"text-align: right;\">\n",
       "      <th></th>\n",
       "      <th>Hours</th>\n",
       "      <th>Scores</th>\n",
       "    </tr>\n",
       "  </thead>\n",
       "  <tbody>\n",
       "    <tr>\n",
       "      <th>0</th>\n",
       "      <td>2.5</td>\n",
       "      <td>21</td>\n",
       "    </tr>\n",
       "    <tr>\n",
       "      <th>1</th>\n",
       "      <td>5.1</td>\n",
       "      <td>47</td>\n",
       "    </tr>\n",
       "    <tr>\n",
       "      <th>2</th>\n",
       "      <td>3.2</td>\n",
       "      <td>27</td>\n",
       "    </tr>\n",
       "    <tr>\n",
       "      <th>3</th>\n",
       "      <td>8.5</td>\n",
       "      <td>75</td>\n",
       "    </tr>\n",
       "    <tr>\n",
       "      <th>4</th>\n",
       "      <td>3.5</td>\n",
       "      <td>30</td>\n",
       "    </tr>\n",
       "  </tbody>\n",
       "</table>\n",
       "</div>"
      ],
      "text/plain": [
       "   Hours  Scores\n",
       "0    2.5      21\n",
       "1    5.1      47\n",
       "2    3.2      27\n",
       "3    8.5      75\n",
       "4    3.5      30"
      ]
     },
     "execution_count": 81,
     "metadata": {},
     "output_type": "execute_result"
    }
   ],
   "source": [
    "# Importing The Dataset\n",
    "url = \"http://bit.ly/w-data\"\n",
    "df = pd.read_csv(url)\n",
    "# Used the pandas library to read csv file\n",
    "# And store the Dataset in a DataFrame\n",
    "\n",
    "#Display The Head of DataFrame\n",
    "df.head()"
   ]
  },
  {
   "cell_type": "markdown",
   "id": "9c983c9c",
   "metadata": {},
   "source": [
    "### Dataset Information\n",
    "\n",
    "In this we'll see what is the dataset about, how many features are there in dataset, what are the values of the features, etc"
   ]
  },
  {
   "cell_type": "code",
   "execution_count": 37,
   "id": "dc5666ff",
   "metadata": {
    "ExecuteTime": {
     "end_time": "2021-06-10T12:09:39.605245Z",
     "start_time": "2021-06-10T12:09:39.592989Z"
    }
   },
   "outputs": [
    {
     "data": {
      "text/plain": [
       "(25, 2)"
      ]
     },
     "execution_count": 37,
     "metadata": {},
     "output_type": "execute_result"
    }
   ],
   "source": [
    "# Check How Many Rows And Columns Are There\n",
    "df.shape"
   ]
  },
  {
   "cell_type": "code",
   "execution_count": 38,
   "id": "c19aedfb",
   "metadata": {
    "ExecuteTime": {
     "end_time": "2021-06-10T12:09:39.681955Z",
     "start_time": "2021-06-10T12:09:39.654030Z"
    }
   },
   "outputs": [
    {
     "data": {
      "text/html": [
       "<div>\n",
       "<style scoped>\n",
       "    .dataframe tbody tr th:only-of-type {\n",
       "        vertical-align: middle;\n",
       "    }\n",
       "\n",
       "    .dataframe tbody tr th {\n",
       "        vertical-align: top;\n",
       "    }\n",
       "\n",
       "    .dataframe thead th {\n",
       "        text-align: right;\n",
       "    }\n",
       "</style>\n",
       "<table border=\"1\" class=\"dataframe\">\n",
       "  <thead>\n",
       "    <tr style=\"text-align: right;\">\n",
       "      <th></th>\n",
       "      <th>Hours</th>\n",
       "      <th>Scores</th>\n",
       "    </tr>\n",
       "  </thead>\n",
       "  <tbody>\n",
       "    <tr>\n",
       "      <th>count</th>\n",
       "      <td>25.000000</td>\n",
       "      <td>25.000000</td>\n",
       "    </tr>\n",
       "    <tr>\n",
       "      <th>mean</th>\n",
       "      <td>5.012000</td>\n",
       "      <td>51.480000</td>\n",
       "    </tr>\n",
       "    <tr>\n",
       "      <th>std</th>\n",
       "      <td>2.525094</td>\n",
       "      <td>25.286887</td>\n",
       "    </tr>\n",
       "    <tr>\n",
       "      <th>min</th>\n",
       "      <td>1.100000</td>\n",
       "      <td>17.000000</td>\n",
       "    </tr>\n",
       "    <tr>\n",
       "      <th>25%</th>\n",
       "      <td>2.700000</td>\n",
       "      <td>30.000000</td>\n",
       "    </tr>\n",
       "    <tr>\n",
       "      <th>50%</th>\n",
       "      <td>4.800000</td>\n",
       "      <td>47.000000</td>\n",
       "    </tr>\n",
       "    <tr>\n",
       "      <th>75%</th>\n",
       "      <td>7.400000</td>\n",
       "      <td>75.000000</td>\n",
       "    </tr>\n",
       "    <tr>\n",
       "      <th>max</th>\n",
       "      <td>9.200000</td>\n",
       "      <td>95.000000</td>\n",
       "    </tr>\n",
       "  </tbody>\n",
       "</table>\n",
       "</div>"
      ],
      "text/plain": [
       "           Hours     Scores\n",
       "count  25.000000  25.000000\n",
       "mean    5.012000  51.480000\n",
       "std     2.525094  25.286887\n",
       "min     1.100000  17.000000\n",
       "25%     2.700000  30.000000\n",
       "50%     4.800000  47.000000\n",
       "75%     7.400000  75.000000\n",
       "max     9.200000  95.000000"
      ]
     },
     "execution_count": 38,
     "metadata": {},
     "output_type": "execute_result"
    }
   ],
   "source": [
    "df.describe()\n",
    "# As we can see here, there are 25 rows of Hours and Scores each\n",
    "# Mean Hours is 5 and Mean score is 51"
   ]
  },
  {
   "cell_type": "code",
   "execution_count": 76,
   "id": "d6626616",
   "metadata": {
    "ExecuteTime": {
     "end_time": "2021-06-10T12:20:07.996017Z",
     "start_time": "2021-06-10T12:20:07.981289Z"
    }
   },
   "outputs": [
    {
     "name": "stdout",
     "output_type": "stream",
     "text": [
      "<class 'pandas.core.frame.DataFrame'>\n",
      "RangeIndex: 25 entries, 0 to 24\n",
      "Data columns (total 2 columns):\n",
      " #   Column  Non-Null Count  Dtype  \n",
      "---  ------  --------------  -----  \n",
      " 0   Hours   25 non-null     float64\n",
      " 1   Scores  25 non-null     int64  \n",
      "dtypes: float64(1), int64(1)\n",
      "memory usage: 528.0 bytes\n"
     ]
    }
   ],
   "source": [
    "# To Show More Information About The The DataFrame\n",
    "df.info()\n",
    "\n",
    "# Conclusions :-\n",
    "# 1. - > There are no null values.\n",
    "# 2. - > Hours has float data type\n",
    "# 3. - > Score has integer data type"
   ]
  },
  {
   "cell_type": "markdown",
   "id": "c5d65f85",
   "metadata": {},
   "source": [
    "## STEP 2 - Visualizing the dataset\n",
    "\n",
    "In this we will plot the dataset to check whether we can observe any relation between the two variables or not."
   ]
  },
  {
   "cell_type": "code",
   "execution_count": 40,
   "id": "f61ebff0",
   "metadata": {
    "ExecuteTime": {
     "end_time": "2021-06-10T12:09:40.772304Z",
     "start_time": "2021-06-10T12:09:40.520505Z"
    }
   },
   "outputs": [
    {
     "data": {
      "image/png": "[encoded data removed]",
      "text/plain": [
       "<Figure size 432x288 with 1 Axes>"
      ]
     },
     "metadata": {
      "needs_background": "light"
     },
     "output_type": "display_data"
    }
   ],
   "source": [
    "# Plotting The DataFrame\n",
    "\n",
    "# Entering the input values to plot\n",
    "df.plot(x = 'Hours', y = 'Scores', style = '.', color = 'blue', markersize = 10) \n",
    "\n",
    "# Title of the graph\n",
    "plt.title('Hours vs Percentage')  \n",
    "# X & Y Labels \n",
    "plt.xlabel('Hours Studied')  \n",
    "plt.ylabel('Percentage Score')\n",
    "\n",
    "# To display grid to the graph\n",
    "plt.grid()\n",
    "# To plot the graph\n",
    "plt.show()"
   ]
  },
  {
   "cell_type": "markdown",
   "id": "99449c28",
   "metadata": {
    "heading_collapsed": true
   },
   "source": [
    "### Correlation\n",
    "\n",
    "Using Correlation, we'll determine how much are the features related to each other."
   ]
  },
  {
   "cell_type": "code",
   "execution_count": 82,
   "id": "ebcc584d",
   "metadata": {
    "ExecuteTime": {
     "end_time": "2021-06-10T12:31:57.229514Z",
     "start_time": "2021-06-10T12:31:57.214194Z"
    },
    "hidden": true
   },
   "outputs": [
    {
     "data": {
      "text/html": [
       "<div>\n",
       "<style scoped>\n",
       "    .dataframe tbody tr th:only-of-type {\n",
       "        vertical-align: middle;\n",
       "    }\n",
       "\n",
       "    .dataframe tbody tr th {\n",
       "        vertical-align: top;\n",
       "    }\n",
       "\n",
       "    .dataframe thead th {\n",
       "        text-align: right;\n",
       "    }\n",
       "</style>\n",
       "<table border=\"1\" class=\"dataframe\">\n",
       "  <thead>\n",
       "    <tr style=\"text-align: right;\">\n",
       "      <th></th>\n",
       "      <th>Hours</th>\n",
       "      <th>Scores</th>\n",
       "    </tr>\n",
       "  </thead>\n",
       "  <tbody>\n",
       "    <tr>\n",
       "      <th>Hours</th>\n",
       "      <td>1.000000</td>\n",
       "      <td>0.976191</td>\n",
       "    </tr>\n",
       "    <tr>\n",
       "      <th>Scores</th>\n",
       "      <td>0.976191</td>\n",
       "      <td>1.000000</td>\n",
       "    </tr>\n",
       "  </tbody>\n",
       "</table>\n",
       "</div>"
      ],
      "text/plain": [
       "           Hours    Scores\n",
       "Hours   1.000000  0.976191\n",
       "Scores  0.976191  1.000000"
      ]
     },
     "execution_count": 82,
     "metadata": {},
     "output_type": "execute_result"
    }
   ],
   "source": [
    "# Display the Correlation between the features\n",
    "dfCorr = df.corr()\n",
    "dfCorr\n",
    "# If the Correlation is positive that means when the hours increase, the scores increase too"
   ]
  },
  {
   "cell_type": "code",
   "execution_count": 83,
   "id": "93d269f0",
   "metadata": {
    "ExecuteTime": {
     "end_time": "2021-06-10T12:32:14.615784Z",
     "start_time": "2021-06-10T12:32:14.601244Z"
    },
    "hidden": true
   },
   "outputs": [
    {
     "data": {
      "text/plain": [
       "0.9761906560220883"
      ]
     },
     "execution_count": 83,
     "metadata": {},
     "output_type": "execute_result"
    }
   ],
   "source": [
    "# Correlation Between Hours and Scores\n",
    "dfCorr.iloc[0,1]"
   ]
  },
  {
   "cell_type": "code",
   "execution_count": 84,
   "id": "21c8d901",
   "metadata": {
    "ExecuteTime": {
     "end_time": "2021-06-10T12:32:30.166700Z",
     "start_time": "2021-06-10T12:32:29.888515Z"
    },
    "hidden": true
   },
   "outputs": [
    {
     "data": {
      "text/plain": [
       "<AxesSubplot:>"
      ]
     },
     "execution_count": 84,
     "metadata": {},
     "output_type": "execute_result"
    },
    {
     "data": {
      "image/png": "[encoded data removed]",
      "text/plain": [
       "<Figure size 432x288 with 2 Axes>"
      ]
     },
     "metadata": {
      "needs_background": "light"
     },
     "output_type": "display_data"
    }
   ],
   "source": [
    "sns.heatmap(dfCorr, annot = True)"
   ]
  },
  {
   "cell_type": "markdown",
   "id": "495b3dfc",
   "metadata": {
    "heading_collapsed": true
   },
   "source": [
    "### Distplot\n",
    "\n",
    "In this plot, we'll check if there are any outliers."
   ]
  },
  {
   "cell_type": "code",
   "execution_count": 42,
   "id": "88af57df",
   "metadata": {
    "ExecuteTime": {
     "end_time": "2021-06-10T12:09:41.495336Z",
     "start_time": "2021-06-10T12:09:41.251486Z"
    },
    "hidden": true
   },
   "outputs": [
    {
     "data": {
      "image/png": "[encoded data removed]",
      "text/plain": [
       "<Figure size 432x288 with 1 Axes>"
      ]
     },
     "metadata": {
      "needs_background": "light"
     },
     "output_type": "display_data"
    }
   ],
   "source": [
    "sns.distplot(df['Hours'])\n",
    "plt.show()\n",
    "# From this distplot we can see that there is no outlier in the data"
   ]
  },
  {
   "cell_type": "code",
   "execution_count": 43,
   "id": "1ebbdb0d",
   "metadata": {
    "ExecuteTime": {
     "end_time": "2021-06-10T12:09:41.788754Z",
     "start_time": "2021-06-10T12:09:41.527852Z"
    },
    "hidden": true
   },
   "outputs": [
    {
     "data": {
      "image/png": "[encoded data removed]",
      "text/plain": [
       "<Figure size 432x288 with 1 Axes>"
      ]
     },
     "metadata": {
      "needs_background": "light"
     },
     "output_type": "display_data"
    }
   ],
   "source": [
    "sns.distplot(df['Scores'])\n",
    "plt.show()\n",
    "# From this distplot we can see that there is no outlier in the data"
   ]
  },
  {
   "cell_type": "markdown",
   "id": "0fbb88f5",
   "metadata": {
    "heading_collapsed": true
   },
   "source": [
    "### Pairplot\n",
    "\n",
    "In this plot,  we'll check the relationship between Hours and Scores"
   ]
  },
  {
   "cell_type": "code",
   "execution_count": 44,
   "id": "781ff5c6",
   "metadata": {
    "ExecuteTime": {
     "end_time": "2021-06-10T12:09:42.880759Z",
     "start_time": "2021-06-10T12:09:41.836172Z"
    },
    "hidden": true
   },
   "outputs": [
    {
     "data": {
      "text/plain": [
       "<seaborn.axisgrid.PairGrid at 0x238a901dc18>"
      ]
     },
     "execution_count": 44,
     "metadata": {},
     "output_type": "execute_result"
    },
    {
     "data": {
      "image/png": "[encoded data removed]",
      "text/plain": [
       "<Figure size 360x360 with 6 Axes>"
      ]
     },
     "metadata": {
      "needs_background": "light"
     },
     "output_type": "display_data"
    }
   ],
   "source": [
    "# Pairplot The Datafrane\n",
    "sns.pairplot(data = df, kind = 'scatter')\n",
    "# Plot pairwise relationships in a dataset\n",
    "# In this case there are only two columns Hours and Scores"
   ]
  },
  {
   "cell_type": "markdown",
   "id": "e38b417d",
   "metadata": {
    "heading_collapsed": true
   },
   "source": [
    "## STEP 3 - Data preparation\n",
    "\n",
    "In this step we will divide the data into \"features\" (inputs) and \"labels\" (outputs). After that we will split the whole dataset into 2 parts - testing data and training data."
   ]
  },
  {
   "cell_type": "code",
   "execution_count": 85,
   "id": "d9dfc737",
   "metadata": {
    "ExecuteTime": {
     "end_time": "2021-06-10T12:37:30.711040Z",
     "start_time": "2021-06-10T12:37:30.689420Z"
    },
    "hidden": true
   },
   "outputs": [
    {
     "data": {
      "text/html": [
       "<div>\n",
       "<style scoped>\n",
       "    .dataframe tbody tr th:only-of-type {\n",
       "        vertical-align: middle;\n",
       "    }\n",
       "\n",
       "    .dataframe tbody tr th {\n",
       "        vertical-align: top;\n",
       "    }\n",
       "\n",
       "    .dataframe thead th {\n",
       "        text-align: right;\n",
       "    }\n",
       "</style>\n",
       "<table border=\"1\" class=\"dataframe\">\n",
       "  <thead>\n",
       "    <tr style=\"text-align: right;\">\n",
       "      <th></th>\n",
       "      <th>Hours</th>\n",
       "      <th>Scores</th>\n",
       "    </tr>\n",
       "  </thead>\n",
       "  <tbody>\n",
       "    <tr>\n",
       "      <th>0</th>\n",
       "      <td>2.5</td>\n",
       "      <td>21</td>\n",
       "    </tr>\n",
       "    <tr>\n",
       "      <th>1</th>\n",
       "      <td>5.1</td>\n",
       "      <td>47</td>\n",
       "    </tr>\n",
       "    <tr>\n",
       "      <th>2</th>\n",
       "      <td>3.2</td>\n",
       "      <td>27</td>\n",
       "    </tr>\n",
       "    <tr>\n",
       "      <th>3</th>\n",
       "      <td>8.5</td>\n",
       "      <td>75</td>\n",
       "    </tr>\n",
       "    <tr>\n",
       "      <th>4</th>\n",
       "      <td>3.5</td>\n",
       "      <td>30</td>\n",
       "    </tr>\n",
       "  </tbody>\n",
       "</table>\n",
       "</div>"
      ],
      "text/plain": [
       "   Hours  Scores\n",
       "0    2.5      21\n",
       "1    5.1      47\n",
       "2    3.2      27\n",
       "3    8.5      75\n",
       "4    3.5      30"
      ]
     },
     "execution_count": 85,
     "metadata": {},
     "output_type": "execute_result"
    }
   ],
   "source": [
    "df.head()"
   ]
  },
  {
   "cell_type": "code",
   "execution_count": 48,
   "id": "b7a42e5b",
   "metadata": {
    "ExecuteTime": {
     "end_time": "2021-06-10T12:09:43.267015Z",
     "start_time": "2021-06-10T12:09:43.253013Z"
    },
    "hidden": true
   },
   "outputs": [],
   "source": [
    "X = df[['Hours']]\n",
    "y = df['Scores']"
   ]
  },
  {
   "cell_type": "markdown",
   "id": "399694c0",
   "metadata": {
    "heading_collapsed": true,
    "hidden": true
   },
   "source": [
    "### Splitting Dataset into Two Parts"
   ]
  },
  {
   "cell_type": "code",
   "execution_count": 86,
   "id": "c3cf5a2d",
   "metadata": {
    "ExecuteTime": {
     "end_time": "2021-06-10T12:38:16.928322Z",
     "start_time": "2021-06-10T12:38:16.916355Z"
    },
    "hidden": true
   },
   "outputs": [],
   "source": [
    "# Import train_test_split from sklearn Library\n",
    "from sklearn.model_selection import train_test_split\n",
    "\n",
    "# Input X_train, X_test, y_train, y_test from X & y using train_test_split\n",
    "X_train, X_test, y_train, y_test = train_test_split(X, y, test_size = 0.2, random_state = 0)"
   ]
  },
  {
   "cell_type": "markdown",
   "id": "be18e946",
   "metadata": {
    "heading_collapsed": true
   },
   "source": [
    "## STEP 4 - Training the Algorithm\n",
    "\n",
    "We have splitted our data into training and testing sets, and now we will train our Model."
   ]
  },
  {
   "cell_type": "code",
   "execution_count": 87,
   "id": "0a100fd7",
   "metadata": {
    "ExecuteTime": {
     "end_time": "2021-06-10T12:38:25.421016Z",
     "start_time": "2021-06-10T12:38:25.404944Z"
    },
    "hidden": true
   },
   "outputs": [
    {
     "name": "stdout",
     "output_type": "stream",
     "text": [
      "Training is complete\n"
     ]
    }
   ],
   "source": [
    "# Import Linear Regression Library from sklearn\n",
    "from sklearn.linear_model import LinearRegression\n",
    "\n",
    "# Create Linear Regression Object\n",
    "linReg = LinearRegression()\n",
    "\n",
    "# Fit the X_train and y_train in the Linear Regression Object\n",
    "linReg.fit(X_train, y_train)\n",
    "\n",
    "print('Training is complete')"
   ]
  },
  {
   "cell_type": "code",
   "execution_count": 57,
   "id": "a56b675e",
   "metadata": {
    "ExecuteTime": {
     "end_time": "2021-06-10T12:13:50.581046Z",
     "start_time": "2021-06-10T12:13:50.573406Z"
    },
    "hidden": true
   },
   "outputs": [
    {
     "name": "stdout",
     "output_type": "stream",
     "text": [
      "y(Scores) predicted\n"
     ]
    }
   ],
   "source": [
    "# Put the X_test in Linear Regression Predict Model to output y_predict\n",
    "y_predict = linReg.predict(X_test)\n",
    "\n",
    "print('y(Scores) predicted')"
   ]
  },
  {
   "cell_type": "code",
   "execution_count": 92,
   "id": "685a4082",
   "metadata": {
    "ExecuteTime": {
     "end_time": "2021-06-10T12:43:02.601705Z",
     "start_time": "2021-06-10T12:43:02.581034Z"
    },
    "hidden": true
   },
   "outputs": [
    {
     "name": "stdout",
     "output_type": "stream",
     "text": [
      "1. Coefficient    = 9.910656480642237\n",
      "2. Intercept      = 2.018160041434683\n",
      "3. predictionLine = (Coefficient * X) + Intercept\n"
     ]
    }
   ],
   "source": [
    "print('1. Coefficient    =',linReg.coef_[0])\n",
    "print('2. Intercept      =',linReg.intercept_)\n",
    "print('3. predictionLine = (Coefficient * X) + Intercept')\n",
    "\n",
    "#            y = m(slope)     * X + c(y-intercept)\n",
    "predictionLine = linReg.coef_ * X + linReg.intercept_"
   ]
  },
  {
   "cell_type": "markdown",
   "id": "f47c92a4",
   "metadata": {},
   "source": [
    "## STEP 5 - Visualizing the model\n",
    "\n",
    "After training the model, now its time to visualize it."
   ]
  },
  {
   "cell_type": "markdown",
   "id": "a67d844c",
   "metadata": {
    "heading_collapsed": true
   },
   "source": [
    "### With Full Dataset"
   ]
  },
  {
   "cell_type": "code",
   "execution_count": 96,
   "id": "fc3f330d",
   "metadata": {
    "ExecuteTime": {
     "end_time": "2021-06-10T12:46:19.534694Z",
     "start_time": "2021-06-10T12:46:19.344918Z"
    },
    "hidden": true
   },
   "outputs": [
    {
     "data": {
      "image/png": "[encoded data removed]",
      "text/plain": [
       "<Figure size 864x576 with 1 Axes>"
      ]
     },
     "metadata": {
      "needs_background": "light"
     },
     "output_type": "display_data"
    }
   ],
   "source": [
    "# Graph Plot Size\n",
    "plt.rcParams[\"figure.figsize\"] = [12,8]\n",
    "\n",
    "# Plotting the Linear Regression Line\n",
    "plt.plot(X, predictionLine, color = 'r')\n",
    "\n",
    "# Plot The Scatter Plot of Hours And Scores\n",
    "plt.scatter(X,y)\n",
    "\n",
    "# Setting the labels\n",
    "plt.xlabel('Hours Studied')  \n",
    "plt.ylabel('Percentage Score')\n",
    "\n",
    "# Show the Graph\n",
    "plt.show()"
   ]
  },
  {
   "cell_type": "markdown",
   "id": "5467616e",
   "metadata": {
    "heading_collapsed": true
   },
   "source": [
    "### With Only Test Dataset"
   ]
  },
  {
   "cell_type": "code",
   "execution_count": 97,
   "id": "e11b7b9f",
   "metadata": {
    "ExecuteTime": {
     "end_time": "2021-06-10T12:48:19.439354Z",
     "start_time": "2021-06-10T12:48:19.064934Z"
    },
    "hidden": true
   },
   "outputs": [
    {
     "data": {
      "image/png": "[encoded data removed]",
      "text/plain": [
       "<Figure size 1152x648 with 1 Axes>"
      ]
     },
     "metadata": {
      "needs_background": "light"
     },
     "output_type": "display_data"
    }
   ],
   "source": [
    "# Graph Plot Size\n",
    "plt.rcParams[\"figure.figsize\"] = [16,9]\n",
    "\n",
    "# Plotting the Linear Regression Line\n",
    "plt.plot(X, predictionLine, color='green');\n",
    "\n",
    "# Plotting for the testing data\n",
    "# Plot The Scatter Plot of Hours And Scores\n",
    "plt.scatter(X_test, y_test, color='red')\n",
    "\n",
    "# Setting the labels\n",
    "plt.xlabel('Hours Studied')  \n",
    "plt.ylabel('Percentage Score')\n",
    "\n",
    "# Show the Graph\n",
    "plt.show()"
   ]
  },
  {
   "cell_type": "markdown",
   "id": "ae1fa2b4",
   "metadata": {},
   "source": [
    "## STEP 6 - Making Predictions\n",
    "\n",
    "Now that we have trained our algorithm, it's time to make some predictions."
   ]
  },
  {
   "cell_type": "markdown",
   "id": "d95a8056",
   "metadata": {
    "heading_collapsed": true
   },
   "source": [
    "### X_test"
   ]
  },
  {
   "cell_type": "code",
   "execution_count": 101,
   "id": "8176eb48",
   "metadata": {
    "ExecuteTime": {
     "end_time": "2021-06-10T12:51:05.922218Z",
     "start_time": "2021-06-10T12:51:05.910150Z"
    },
    "hidden": true,
    "scrolled": true
   },
   "outputs": [
    {
     "name": "stdout",
     "output_type": "stream",
     "text": [
      "    Hours\n",
      "5     1.5\n",
      "2     3.2\n",
      "19    7.4\n",
      "16    2.5\n",
      "11    5.9\n"
     ]
    }
   ],
   "source": [
    "print(X_test)"
   ]
  },
  {
   "cell_type": "markdown",
   "id": "bbc17dd2",
   "metadata": {
    "heading_collapsed": true
   },
   "source": [
    "### y_test"
   ]
  },
  {
   "cell_type": "code",
   "execution_count": 102,
   "id": "9f5c04cb",
   "metadata": {
    "ExecuteTime": {
     "end_time": "2021-06-10T12:51:12.113916Z",
     "start_time": "2021-06-10T12:51:12.094909Z"
    },
    "hidden": true,
    "scrolled": true
   },
   "outputs": [
    {
     "name": "stdout",
     "output_type": "stream",
     "text": [
      "5     20\n",
      "2     27\n",
      "19    69\n",
      "16    30\n",
      "11    62\n",
      "Name: Scores, dtype: int64\n"
     ]
    }
   ],
   "source": [
    "print(y_test)"
   ]
  },
  {
   "cell_type": "markdown",
   "id": "9272077a",
   "metadata": {
    "heading_collapsed": true
   },
   "source": [
    "### y_predict"
   ]
  },
  {
   "cell_type": "code",
   "execution_count": 104,
   "id": "18c372f2",
   "metadata": {
    "ExecuteTime": {
     "end_time": "2021-06-10T12:51:49.399703Z",
     "start_time": "2021-06-10T12:51:49.348621Z"
    },
    "hidden": true
   },
   "outputs": [
    {
     "data": {
      "text/plain": [
       "array([16.88414476, 33.73226078, 75.357018  , 26.79480124, 60.49103328])"
      ]
     },
     "execution_count": 104,
     "metadata": {},
     "output_type": "execute_result"
    }
   ],
   "source": [
    "y_predict"
   ]
  },
  {
   "cell_type": "markdown",
   "id": "75cd0732",
   "metadata": {
    "ExecuteTime": {
     "end_time": "2021-06-10T12:54:56.044832Z",
     "start_time": "2021-06-10T12:54:56.031013Z"
    },
    "heading_collapsed": true
   },
   "source": [
    "### Comparing the actual and predicted value of y i.e. Scores"
   ]
  },
  {
   "cell_type": "code",
   "execution_count": 110,
   "id": "f28b6d55",
   "metadata": {
    "ExecuteTime": {
     "end_time": "2021-06-10T12:55:05.187467Z",
     "start_time": "2021-06-10T12:55:05.170146Z"
    },
    "hidden": true
   },
   "outputs": [
    {
     "data": {
      "text/html": [
       "<div>\n",
       "<style scoped>\n",
       "    .dataframe tbody tr th:only-of-type {\n",
       "        vertical-align: middle;\n",
       "    }\n",
       "\n",
       "    .dataframe tbody tr th {\n",
       "        vertical-align: top;\n",
       "    }\n",
       "\n",
       "    .dataframe thead th {\n",
       "        text-align: right;\n",
       "    }\n",
       "</style>\n",
       "<table border=\"1\" class=\"dataframe\">\n",
       "  <thead>\n",
       "    <tr style=\"text-align: right;\">\n",
       "      <th></th>\n",
       "      <th>actual</th>\n",
       "      <th>predicted</th>\n",
       "    </tr>\n",
       "  </thead>\n",
       "  <tbody>\n",
       "    <tr>\n",
       "      <th>0</th>\n",
       "      <td>20</td>\n",
       "      <td>16.884145</td>\n",
       "    </tr>\n",
       "    <tr>\n",
       "      <th>1</th>\n",
       "      <td>27</td>\n",
       "      <td>33.732261</td>\n",
       "    </tr>\n",
       "    <tr>\n",
       "      <th>2</th>\n",
       "      <td>69</td>\n",
       "      <td>75.357018</td>\n",
       "    </tr>\n",
       "    <tr>\n",
       "      <th>3</th>\n",
       "      <td>30</td>\n",
       "      <td>26.794801</td>\n",
       "    </tr>\n",
       "    <tr>\n",
       "      <th>4</th>\n",
       "      <td>62</td>\n",
       "      <td>60.491033</td>\n",
       "    </tr>\n",
       "  </tbody>\n",
       "</table>\n",
       "</div>"
      ],
      "text/plain": [
       "   actual  predicted\n",
       "0      20  16.884145\n",
       "1      27  33.732261\n",
       "2      69  75.357018\n",
       "3      30  26.794801\n",
       "4      62  60.491033"
      ]
     },
     "execution_count": 110,
     "metadata": {},
     "output_type": "execute_result"
    }
   ],
   "source": [
    "pd.DataFrame({'actual':y_test, 'predicted':y_predict}).reset_index(drop = True)\n",
    "\n",
    "# without .reset_index() it was displaying y_test with its original index from DataFrame\n",
    "# with .reset_index() it added a column to the left of the original indices which had indices from 0\n",
    "# with .reset_index(drop = True) the original indices column was dropped"
   ]
  },
  {
   "cell_type": "code",
   "execution_count": 111,
   "id": "5c03587a",
   "metadata": {
    "ExecuteTime": {
     "end_time": "2021-06-10T12:55:44.598347Z",
     "start_time": "2021-06-10T12:55:44.335325Z"
    },
    "hidden": true
   },
   "outputs": [
    {
     "data": {
      "image/png": "[encoded data removed]",
      "text/plain": [
       "<Figure size 648x360 with 1 Axes>"
      ]
     },
     "metadata": {},
     "output_type": "display_data"
    }
   ],
   "source": [
    "# Graph Plot Size\n",
    "plt.rcParams[\"figure.figsize\"] = [9,5]\n",
    "sns.set_style('whitegrid')\n",
    "# Show the error plot\n",
    "sns.distplot(np.array(y_test - y_predict))\n",
    "plt.show()"
   ]
  },
  {
   "cell_type": "markdown",
   "id": "61aeac42",
   "metadata": {
    "heading_collapsed": true
   },
   "source": [
    "### Predicted Score for 9.25 Hrs"
   ]
  },
  {
   "cell_type": "code",
   "execution_count": 116,
   "id": "af27ac19",
   "metadata": {
    "ExecuteTime": {
     "end_time": "2021-06-10T12:59:36.556872Z",
     "start_time": "2021-06-10T12:59:36.545765Z"
    },
    "hidden": true
   },
   "outputs": [
    {
     "name": "stdout",
     "output_type": "stream",
     "text": [
      "Hence, it can be concluded that the predicted score,\n",
      "if a person studies for 9.25 hours is  93.69\n"
     ]
    }
   ],
   "source": [
    "# Input Hours = 9.25\n",
    "\n",
    "predictedScore = linReg.predict([[9.25]])\n",
    "print(\"Hence, it can be concluded that the predicted score,\") \n",
    "print(\"if a person studies for 9.25 hours is \", round(predictedScore[0],2))"
   ]
  },
  {
   "cell_type": "markdown",
   "id": "67a4684a",
   "metadata": {
    "heading_collapsed": true
   },
   "source": [
    "## STEP 7 - Evaluating the model\n",
    "\n",
    "In the last step, we are going to evaluate our trained model by calculating \n",
    "1. Mean Squared Error\n",
    "2. Root Mean Squared Error\n",
    "3. Mean Absolute Error\n",
    "4. R2 Score"
   ]
  },
  {
   "cell_type": "code",
   "execution_count": 117,
   "id": "6249b4c0",
   "metadata": {
    "ExecuteTime": {
     "end_time": "2021-06-10T13:01:02.241770Z",
     "start_time": "2021-06-10T13:01:02.226126Z"
    },
    "hidden": true
   },
   "outputs": [
    {
     "name": "stdout",
     "output_type": "stream",
     "text": [
      "Mean Squared Error: \t\t 21.6\n",
      "Root Mean Squared Error: \t 4.65\n",
      "Mean Absolute Error: \t\t 4.18\n",
      "R2 Score: \t\t\t 0.95\n"
     ]
    }
   ],
   "source": [
    "# Finding out the mean squared error of y_pred from y_test \n",
    "# i.e. Difference in predicted score and actual test score\n",
    "\n",
    "from sklearn import metrics\n",
    "print('Mean Squared Error: \\t\\t',   round(        metrics.mean_squared_error (y_test, y_predict) ,2))\n",
    "print('Root Mean Squared Error: \\t',round(np.sqrt(metrics.mean_squared_error (y_test, y_predict)),2))\n",
    "print('Mean Absolute Error: \\t\\t',  round(        metrics.mean_absolute_error(y_test, y_predict) ,2))\n",
    "print('R2 Score: \\t\\t\\t',           round(        metrics.r2_score           (y_test, y_predict) ,2))"
   ]
  },
  {
   "cell_type": "markdown",
   "id": "c4273133",
   "metadata": {},
   "source": [
    "# THANK YOU"
   ]
  }
 ],
 "metadata": {
  "kernelspec": {
   "display_name": "Python 3",
   "language": "python",
   "name": "python3"
  },
  "language_info": {
   "codemirror_mode": {
    "name": "ipython",
    "version": 3
   },
   "file_extension": ".py",
   "mimetype": "text/x-python",
   "name": "python",
   "nbconvert_exporter": "python",
   "pygments_lexer": "ipython3",
   "version": "3.7.3"
  },
  "toc": {
   "base_numbering": 1,
   "nav_menu": {},
   "number_sections": true,
   "sideBar": true,
   "skip_h1_title": false,
   "title_cell": "Table of Contents",
   "title_sidebar": "Contents",
   "toc_cell": false,
   "toc_position": {},
   "toc_section_display": true,
   "toc_window_display": false
  },
  "varInspector": {
   "cols": {
    "lenName": 16,
    "lenType": 16,
    "lenVar": 40
   },
   "kernels_config": {
    "python": {
     "delete_cmd_postfix": "",
     "delete_cmd_prefix": "del ",
     "library": "var_list.py",
     "varRefreshCmd": "print(var_dic_list())"
    },
    "r": {
     "delete_cmd_postfix": ") ",
     "delete_cmd_prefix": "rm(",
     "library": "var_list.r",
     "varRefreshCmd": "cat(var_dic_list()) "
    }
   },
   "types_to_exclude": [
    "module",
    "function",
    "builtin_function_or_method",
    "instance",
    "_Feature"
   ],
   "window_display": false
  }
 },
 "nbformat": 4,
 "nbformat_minor": 5
}
